{
  "nbformat": 4,
  "nbformat_minor": 0,
  "metadata": {
    "colab": {
      "name": "Imbalanced Classification Project.ipynb",
      "provenance": [],
      "collapsed_sections": []
    },
    "kernelspec": {
      "name": "python3",
      "display_name": "Python 3"
    },
    "language_info": {
      "name": "python"
    }
  },
  "cells": [
    {
      "cell_type": "markdown",
      "metadata": {
        "id": "Cpp_7QgWVnk9"
      },
      "source": [
        "#1. Specify the question and project goal\n"
      ]
    },
    {
      "cell_type": "markdown",
      "metadata": {
        "id": "XecOwPNorl2W"
      },
      "source": [
        "### a) Specifying the Data Analysis Question\n",
        "\n",
        "What is your research question? What problem is it that you are trying to solve?\n",
        "\n",
        "The task is to predict whether a customer will leave the bank soon\n"
      ]
    },
    {
      "cell_type": "markdown",
      "metadata": {
        "id": "J4wfHZwQrs-t"
      },
      "source": [
        "### b) Defining the Metric for Success\n",
        "\n",
        "What will convince you that your project has succeeded?\n",
        "\n",
        "a model with corrected imabalance and F1 score of 0.59 or higher"
      ]
    },
    {
      "cell_type": "markdown",
      "metadata": {
        "id": "a9BPYqunry97"
      },
      "source": [
        "### c) Understanding the context \n",
        "\n",
        "The background information surrounding the problem or research question.\n",
        "\n",
        "The data is collected and shared by a bank whos aim is to predict with high accuracy a customers likelihood to leave the bank. the bank aims to invest in keeping its currrent clients from leaving \n"
      ]
    },
    {
      "cell_type": "markdown",
      "metadata": {
        "id": "7KMRBJ7zr9HD"
      },
      "source": [
        "### d) Recording the Experimental Design\n",
        "\n",
        "The steps you will take from the beginning to the end of this project.\n",
        "\n",
        "Data collection, cleaning and understanding, followed by creating a model, training and testing it, reviewing the outcome, adjusting paraemeters and class imbalance and challenging the results."
      ]
    },
    {
      "cell_type": "markdown",
      "metadata": {
        "id": "zSGyg6kWsBUl"
      },
      "source": [
        "### e) Data Relevance\n",
        "\n",
        "Is your data relevant to the problem or research question?\n",
        "\n",
        "Yes, the data provided is relevant, as these are the key factors in determining a customers exit"
      ]
    },
    {
      "cell_type": "markdown",
      "metadata": {
        "id": "iUNbvIvnT7ep"
      },
      "source": [
        "## <font color='#2F4F4F'>2. Data Cleaning & Preparation</font>"
      ]
    },
    {
      "cell_type": "markdown",
      "metadata": {
        "id": "EEJuzr0lBDB0"
      },
      "source": [
        "Step 1: Load libraries and import data"
      ]
    },
    {
      "cell_type": "code",
      "metadata": {
        "id": "gTtmJjEdA9IW"
      },
      "source": [
        "#Loading libraries\n",
        "import pandas as pd"
      ],
      "execution_count": 2,
      "outputs": []
    },
    {
      "cell_type": "markdown",
      "metadata": {
        "id": "ejdC8KWwBRBY"
      },
      "source": [
        "Step 2: Import dataset and explore"
      ]
    },
    {
      "cell_type": "code",
      "metadata": {
        "colab": {
          "base_uri": "https://localhost:8080/",
          "height": 351
        },
        "id": "02jNsajTBOWY",
        "outputId": "afcb696e-5fc5-4c40-eaff-1642518e1ff5"
      },
      "source": [
        "#Import data and explore\n",
        "\n",
        "df=pd.read_csv('https://bit.ly/2XZK7Bo')\n",
        "\n",
        "df.sample(10)"
      ],
      "execution_count": 3,
      "outputs": [
        {
          "output_type": "execute_result",
          "data": {
            "text/html": [
              "<div>\n",
              "<style scoped>\n",
              "    .dataframe tbody tr th:only-of-type {\n",
              "        vertical-align: middle;\n",
              "    }\n",
              "\n",
              "    .dataframe tbody tr th {\n",
              "        vertical-align: top;\n",
              "    }\n",
              "\n",
              "    .dataframe thead th {\n",
              "        text-align: right;\n",
              "    }\n",
              "</style>\n",
              "<table border=\"1\" class=\"dataframe\">\n",
              "  <thead>\n",
              "    <tr style=\"text-align: right;\">\n",
              "      <th></th>\n",
              "      <th>RowNumber</th>\n",
              "      <th>CustomerId</th>\n",
              "      <th>Surname</th>\n",
              "      <th>CreditScore</th>\n",
              "      <th>Geography</th>\n",
              "      <th>Gender</th>\n",
              "      <th>Age</th>\n",
              "      <th>Tenure</th>\n",
              "      <th>Balance</th>\n",
              "      <th>NumOfProducts</th>\n",
              "      <th>HasCrCard</th>\n",
              "      <th>IsActiveMember</th>\n",
              "      <th>EstimatedSalary</th>\n",
              "      <th>Exited</th>\n",
              "    </tr>\n",
              "  </thead>\n",
              "  <tbody>\n",
              "    <tr>\n",
              "      <th>8077</th>\n",
              "      <td>8078</td>\n",
              "      <td>15741693</td>\n",
              "      <td>Barnard</td>\n",
              "      <td>693</td>\n",
              "      <td>France</td>\n",
              "      <td>Male</td>\n",
              "      <td>40</td>\n",
              "      <td>4.0</td>\n",
              "      <td>130661.96</td>\n",
              "      <td>1</td>\n",
              "      <td>1</td>\n",
              "      <td>1</td>\n",
              "      <td>101918.96</td>\n",
              "      <td>0</td>\n",
              "    </tr>\n",
              "    <tr>\n",
              "      <th>2169</th>\n",
              "      <td>2170</td>\n",
              "      <td>15621629</td>\n",
              "      <td>Scott</td>\n",
              "      <td>773</td>\n",
              "      <td>Germany</td>\n",
              "      <td>Male</td>\n",
              "      <td>43</td>\n",
              "      <td>8.0</td>\n",
              "      <td>81844.91</td>\n",
              "      <td>2</td>\n",
              "      <td>1</td>\n",
              "      <td>1</td>\n",
              "      <td>35908.46</td>\n",
              "      <td>0</td>\n",
              "    </tr>\n",
              "    <tr>\n",
              "      <th>2716</th>\n",
              "      <td>2717</td>\n",
              "      <td>15631170</td>\n",
              "      <td>Clements</td>\n",
              "      <td>695</td>\n",
              "      <td>France</td>\n",
              "      <td>Male</td>\n",
              "      <td>45</td>\n",
              "      <td>3.0</td>\n",
              "      <td>0.00</td>\n",
              "      <td>2</td>\n",
              "      <td>1</td>\n",
              "      <td>1</td>\n",
              "      <td>30793.61</td>\n",
              "      <td>0</td>\n",
              "    </tr>\n",
              "    <tr>\n",
              "      <th>6207</th>\n",
              "      <td>6208</td>\n",
              "      <td>15665811</td>\n",
              "      <td>Parry</td>\n",
              "      <td>644</td>\n",
              "      <td>France</td>\n",
              "      <td>Male</td>\n",
              "      <td>33</td>\n",
              "      <td>9.0</td>\n",
              "      <td>141234.98</td>\n",
              "      <td>1</td>\n",
              "      <td>1</td>\n",
              "      <td>0</td>\n",
              "      <td>95673.05</td>\n",
              "      <td>0</td>\n",
              "    </tr>\n",
              "    <tr>\n",
              "      <th>6862</th>\n",
              "      <td>6863</td>\n",
              "      <td>15736287</td>\n",
              "      <td>Piccio</td>\n",
              "      <td>586</td>\n",
              "      <td>France</td>\n",
              "      <td>Male</td>\n",
              "      <td>33</td>\n",
              "      <td>9.0</td>\n",
              "      <td>0.00</td>\n",
              "      <td>1</td>\n",
              "      <td>1</td>\n",
              "      <td>0</td>\n",
              "      <td>6975.02</td>\n",
              "      <td>0</td>\n",
              "    </tr>\n",
              "    <tr>\n",
              "      <th>4284</th>\n",
              "      <td>4285</td>\n",
              "      <td>15740175</td>\n",
              "      <td>Raynor</td>\n",
              "      <td>732</td>\n",
              "      <td>Germany</td>\n",
              "      <td>Female</td>\n",
              "      <td>42</td>\n",
              "      <td>2.0</td>\n",
              "      <td>118889.66</td>\n",
              "      <td>2</td>\n",
              "      <td>0</td>\n",
              "      <td>0</td>\n",
              "      <td>87422.15</td>\n",
              "      <td>0</td>\n",
              "    </tr>\n",
              "    <tr>\n",
              "      <th>653</th>\n",
              "      <td>654</td>\n",
              "      <td>15664610</td>\n",
              "      <td>Campbell</td>\n",
              "      <td>459</td>\n",
              "      <td>Germany</td>\n",
              "      <td>Male</td>\n",
              "      <td>48</td>\n",
              "      <td>4.0</td>\n",
              "      <td>133994.52</td>\n",
              "      <td>1</td>\n",
              "      <td>1</td>\n",
              "      <td>1</td>\n",
              "      <td>19287.06</td>\n",
              "      <td>1</td>\n",
              "    </tr>\n",
              "    <tr>\n",
              "      <th>784</th>\n",
              "      <td>785</td>\n",
              "      <td>15571221</td>\n",
              "      <td>Bergamaschi</td>\n",
              "      <td>747</td>\n",
              "      <td>Germany</td>\n",
              "      <td>Male</td>\n",
              "      <td>58</td>\n",
              "      <td>7.0</td>\n",
              "      <td>116313.57</td>\n",
              "      <td>1</td>\n",
              "      <td>1</td>\n",
              "      <td>1</td>\n",
              "      <td>190696.35</td>\n",
              "      <td>1</td>\n",
              "    </tr>\n",
              "    <tr>\n",
              "      <th>3983</th>\n",
              "      <td>3984</td>\n",
              "      <td>15814092</td>\n",
              "      <td>Wang</td>\n",
              "      <td>626</td>\n",
              "      <td>France</td>\n",
              "      <td>Female</td>\n",
              "      <td>44</td>\n",
              "      <td>2.0</td>\n",
              "      <td>0.00</td>\n",
              "      <td>1</td>\n",
              "      <td>0</td>\n",
              "      <td>1</td>\n",
              "      <td>173117.22</td>\n",
              "      <td>1</td>\n",
              "    </tr>\n",
              "    <tr>\n",
              "      <th>2787</th>\n",
              "      <td>2788</td>\n",
              "      <td>15700487</td>\n",
              "      <td>Osonduagwuike</td>\n",
              "      <td>805</td>\n",
              "      <td>France</td>\n",
              "      <td>Male</td>\n",
              "      <td>46</td>\n",
              "      <td>6.0</td>\n",
              "      <td>118022.06</td>\n",
              "      <td>3</td>\n",
              "      <td>1</td>\n",
              "      <td>0</td>\n",
              "      <td>162643.15</td>\n",
              "      <td>1</td>\n",
              "    </tr>\n",
              "  </tbody>\n",
              "</table>\n",
              "</div>"
            ],
            "text/plain": [
              "      RowNumber  CustomerId  ... EstimatedSalary  Exited\n",
              "8077       8078    15741693  ...       101918.96       0\n",
              "2169       2170    15621629  ...        35908.46       0\n",
              "2716       2717    15631170  ...        30793.61       0\n",
              "6207       6208    15665811  ...        95673.05       0\n",
              "6862       6863    15736287  ...         6975.02       0\n",
              "4284       4285    15740175  ...        87422.15       0\n",
              "653         654    15664610  ...        19287.06       1\n",
              "784         785    15571221  ...       190696.35       1\n",
              "3983       3984    15814092  ...       173117.22       1\n",
              "2787       2788    15700487  ...       162643.15       1\n",
              "\n",
              "[10 rows x 14 columns]"
            ]
          },
          "metadata": {},
          "execution_count": 3
        }
      ]
    },
    {
      "cell_type": "code",
      "metadata": {
        "colab": {
          "base_uri": "https://localhost:8080/"
        },
        "id": "fxx2tdEe3Pv-",
        "outputId": "fa872f13-7438-4a3b-e8b2-029d53257b68"
      },
      "source": [
        "#preview the dataset shape\n",
        "df.shape"
      ],
      "execution_count": 4,
      "outputs": [
        {
          "output_type": "execute_result",
          "data": {
            "text/plain": [
              "(10000, 14)"
            ]
          },
          "metadata": {},
          "execution_count": 4
        }
      ]
    },
    {
      "cell_type": "code",
      "metadata": {
        "colab": {
          "base_uri": "https://localhost:8080/"
        },
        "id": "qyaEo_ku3Rvh",
        "outputId": "9ff73bea-3c88-424b-b8ec-5609a4022dbf"
      },
      "source": [
        "#look for duplicates\n",
        "sum(df.duplicated())\n",
        "# ther are no duplicated records in the dataset"
      ],
      "execution_count": 5,
      "outputs": [
        {
          "output_type": "execute_result",
          "data": {
            "text/plain": [
              "0"
            ]
          },
          "metadata": {},
          "execution_count": 5
        }
      ]
    },
    {
      "cell_type": "code",
      "metadata": {
        "colab": {
          "base_uri": "https://localhost:8080/"
        },
        "id": "vfgiClN03TSD",
        "outputId": "2734af5e-40b4-4379-c464-4507df2e07ba"
      },
      "source": [
        "#look for missing values\n",
        "df.isnull().sum()\n",
        "\n",
        "#tenure column has 909 null values"
      ],
      "execution_count": 6,
      "outputs": [
        {
          "output_type": "execute_result",
          "data": {
            "text/plain": [
              "RowNumber            0\n",
              "CustomerId           0\n",
              "Surname              0\n",
              "CreditScore          0\n",
              "Geography            0\n",
              "Gender               0\n",
              "Age                  0\n",
              "Tenure             909\n",
              "Balance              0\n",
              "NumOfProducts        0\n",
              "HasCrCard            0\n",
              "IsActiveMember       0\n",
              "EstimatedSalary      0\n",
              "Exited               0\n",
              "dtype: int64"
            ]
          },
          "metadata": {},
          "execution_count": 6
        }
      ]
    },
    {
      "cell_type": "code",
      "metadata": {
        "colab": {
          "base_uri": "https://localhost:8080/"
        },
        "id": "DS4rBLpd0qOU",
        "outputId": "d42efa4e-4ace-48de-be7e-233ee060c45d"
      },
      "source": [
        "#we will replace the 909 values in the tenure column with 0 for encoding later\n",
        "\n",
        "df.fillna(0, inplace = True)\n",
        "df.isnull().sum()"
      ],
      "execution_count": 7,
      "outputs": [
        {
          "output_type": "execute_result",
          "data": {
            "text/plain": [
              "RowNumber          0\n",
              "CustomerId         0\n",
              "Surname            0\n",
              "CreditScore        0\n",
              "Geography          0\n",
              "Gender             0\n",
              "Age                0\n",
              "Tenure             0\n",
              "Balance            0\n",
              "NumOfProducts      0\n",
              "HasCrCard          0\n",
              "IsActiveMember     0\n",
              "EstimatedSalary    0\n",
              "Exited             0\n",
              "dtype: int64"
            ]
          },
          "metadata": {},
          "execution_count": 7
        }
      ]
    },
    {
      "cell_type": "code",
      "metadata": {
        "colab": {
          "base_uri": "https://localhost:8080/"
        },
        "id": "Sue_hpQN3W8j",
        "outputId": "3f22b84f-fb64-4587-b327-335ee2838391"
      },
      "source": [
        "#preview datatypes\n",
        "df.dtypes\n",
        "\n",
        "#label encoding will be requires since there are 3 columns with text values"
      ],
      "execution_count": 8,
      "outputs": [
        {
          "output_type": "execute_result",
          "data": {
            "text/plain": [
              "RowNumber            int64\n",
              "CustomerId           int64\n",
              "Surname             object\n",
              "CreditScore          int64\n",
              "Geography           object\n",
              "Gender              object\n",
              "Age                  int64\n",
              "Tenure             float64\n",
              "Balance            float64\n",
              "NumOfProducts        int64\n",
              "HasCrCard            int64\n",
              "IsActiveMember       int64\n",
              "EstimatedSalary    float64\n",
              "Exited               int64\n",
              "dtype: object"
            ]
          },
          "metadata": {},
          "execution_count": 8
        }
      ]
    },
    {
      "cell_type": "code",
      "metadata": {
        "colab": {
          "base_uri": "https://localhost:8080/"
        },
        "id": "eIYKPDmQ1Mhg",
        "outputId": "3f8b5ac8-e557-480f-9a86-41c2015a78d0"
      },
      "source": [
        "#we must convert the object columns to strings or integers to enable encoding\n",
        "df['Surname'] = df['Surname'].astype(str)\n",
        "df['Geography'] = df['Geography'].astype(str)\n",
        "df['Gender'] = df['Gender'].astype(str)\n",
        "\n",
        "df.dtypes"
      ],
      "execution_count": 10,
      "outputs": [
        {
          "output_type": "execute_result",
          "data": {
            "text/plain": [
              "RowNumber            int64\n",
              "CustomerId           int64\n",
              "Surname             object\n",
              "CreditScore          int64\n",
              "Geography           object\n",
              "Gender              object\n",
              "Age                  int64\n",
              "Tenure             float64\n",
              "Balance            float64\n",
              "NumOfProducts        int64\n",
              "HasCrCard            int64\n",
              "IsActiveMember       int64\n",
              "EstimatedSalary    float64\n",
              "Exited               int64\n",
              "dtype: object"
            ]
          },
          "metadata": {},
          "execution_count": 10
        }
      ]
    },
    {
      "cell_type": "code",
      "metadata": {
        "id": "c36ljWoV1qGy"
      },
      "source": [
        "from sklearn import preprocessing\n",
        "le = preprocessing.LabelEncoder()\n",
        "for column_name in df.columns:\n",
        "  if df[column_name].dtype == 'object':\n",
        "     df[column_name] = le.fit_transform(df[column_name])\n",
        "  else:\n",
        "    pass\n"
      ],
      "execution_count": 11,
      "outputs": []
    },
    {
      "cell_type": "code",
      "metadata": {
        "colab": {
          "base_uri": "https://localhost:8080/"
        },
        "id": "KdI023FF13-V",
        "outputId": "cb9637dd-d202-4a5d-dc6d-fb75b37ccff5"
      },
      "source": [
        "df.dtypes\n",
        "# we were able to encode the 3 string columns"
      ],
      "execution_count": 12,
      "outputs": [
        {
          "output_type": "execute_result",
          "data": {
            "text/plain": [
              "RowNumber            int64\n",
              "CustomerId           int64\n",
              "Surname              int64\n",
              "CreditScore          int64\n",
              "Geography            int64\n",
              "Gender               int64\n",
              "Age                  int64\n",
              "Tenure             float64\n",
              "Balance            float64\n",
              "NumOfProducts        int64\n",
              "HasCrCard            int64\n",
              "IsActiveMember       int64\n",
              "EstimatedSalary    float64\n",
              "Exited               int64\n",
              "dtype: object"
            ]
          },
          "metadata": {},
          "execution_count": 12
        }
      ]
    },
    {
      "cell_type": "markdown",
      "metadata": {
        "id": "xvs-X851ZAb_"
      },
      "source": [
        "## <font color='#2F4F4F'>3. Examine balance of Classes</font>\n",
        "\n"
      ]
    },
    {
      "cell_type": "code",
      "metadata": {
        "colab": {
          "base_uri": "https://localhost:8080/"
        },
        "id": "a_Y7aBJT22yX",
        "outputId": "298a03c8-898a-421b-ac61-bbf3740d8ccb"
      },
      "source": [
        "#we will examine the balance of classes by doing a value count\n",
        "# of both outcomes and visualising the same\n",
        "\n",
        "df['Exited'].value_counts()"
      ],
      "execution_count": 13,
      "outputs": [
        {
          "output_type": "execute_result",
          "data": {
            "text/plain": [
              "0    7963\n",
              "1    2037\n",
              "Name: Exited, dtype: int64"
            ]
          },
          "metadata": {},
          "execution_count": 13
        }
      ]
    },
    {
      "cell_type": "code",
      "metadata": {
        "colab": {
          "base_uri": "https://localhost:8080/",
          "height": 470
        },
        "id": "DOJ4wGdt3Cdm",
        "outputId": "634f05d5-1d96-47ee-e772-c6bd250c7de8"
      },
      "source": [
        "import seaborn as sns\n",
        "import warnings\n",
        "warnings.filterwarnings(\"ignore\")\n",
        "\n",
        "#plot the graph\n",
        "a = sns.countplot(df['Exited'])\n",
        "a.set_xticklabels(['Not Exited','Exited'])\n",
        "plt.show()\n",
        "\n"
      ],
      "execution_count": 16,
      "outputs": [
        {
          "output_type": "error",
          "ename": "NameError",
          "evalue": "ignored",
          "traceback": [
            "\u001b[0;31m---------------------------------------------------------------------------\u001b[0m",
            "\u001b[0;31mNameError\u001b[0m                                 Traceback (most recent call last)",
            "\u001b[0;32m<ipython-input-16-ac7556d870fd>\u001b[0m in \u001b[0;36m<module>\u001b[0;34m()\u001b[0m\n\u001b[1;32m      5\u001b[0m \u001b[0ma\u001b[0m \u001b[0;34m=\u001b[0m \u001b[0msns\u001b[0m\u001b[0;34m.\u001b[0m\u001b[0mcountplot\u001b[0m\u001b[0;34m(\u001b[0m\u001b[0mdf\u001b[0m\u001b[0;34m[\u001b[0m\u001b[0;34m'Exited'\u001b[0m\u001b[0;34m]\u001b[0m\u001b[0;34m)\u001b[0m\u001b[0;34m\u001b[0m\u001b[0;34m\u001b[0m\u001b[0m\n\u001b[1;32m      6\u001b[0m \u001b[0ma\u001b[0m\u001b[0;34m.\u001b[0m\u001b[0mset_xticklabels\u001b[0m\u001b[0;34m(\u001b[0m\u001b[0;34m[\u001b[0m\u001b[0;34m'Not Exited'\u001b[0m\u001b[0;34m,\u001b[0m\u001b[0;34m'Exited'\u001b[0m\u001b[0;34m]\u001b[0m\u001b[0;34m)\u001b[0m\u001b[0;34m\u001b[0m\u001b[0;34m\u001b[0m\u001b[0m\n\u001b[0;32m----> 7\u001b[0;31m \u001b[0mplt\u001b[0m\u001b[0;34m.\u001b[0m\u001b[0mshow\u001b[0m\u001b[0;34m(\u001b[0m\u001b[0;34m)\u001b[0m\u001b[0;34m\u001b[0m\u001b[0;34m\u001b[0m\u001b[0m\n\u001b[0m\u001b[1;32m      8\u001b[0m \u001b[0;34m\u001b[0m\u001b[0m\n",
            "\u001b[0;31mNameError\u001b[0m: name 'plt' is not defined"
          ]
        },
        {
          "output_type": "display_data",
          "data": {
            "image/png": "[encoded data removed]",
            "text/plain": [
              "<Figure size 432x288 with 1 Axes>"
            ]
          },
          "metadata": {
            "needs_background": "light"
          }
        }
      ]
    },
    {
      "cell_type": "markdown",
      "metadata": {
        "id": "fvhl_iJv4DhD"
      },
      "source": [
        "There is a clear class imbalance with majority of observations sitting under 'Not Exited' category. This will be resolved with Upsampling and Downsampling methods"
      ]
    },
    {
      "cell_type": "markdown",
      "metadata": {
        "id": "6ChrCmrY2udp"
      },
      "source": [
        "## <font color='#2F4F4F'>4. Modelling</font>\n",
        "\n",
        "We will model the exit data without adjusting for imbalance"
      ]
    },
    {
      "cell_type": "markdown",
      "metadata": {
        "id": "YOUwSERIZaNX"
      },
      "source": [
        "Splitting the dataset into test, validation and training sets"
      ]
    },
    {
      "cell_type": "code",
      "metadata": {
        "id": "sy_HhAYBZex1"
      },
      "source": [
        "from sklearn.model_selection import train_test_split\n",
        "\n",
        "df_train, df_test = train_test_split(df, test_size=0.25, random_state=12345)\n",
        "\n",
        "features_train = df_train.drop(['Exited'], axis=1)\n",
        "target_train = df_train['Exited']\n",
        "features_test = df_test.drop(['Exited'], axis=1)\n",
        "target_test = df_test['Exited']"
      ],
      "execution_count": 17,
      "outputs": []
    },
    {
      "cell_type": "code",
      "metadata": {
        "colab": {
          "base_uri": "https://localhost:8080/"
        },
        "id": "v1_Y_x0XqL-W",
        "outputId": "37ad2eb3-0447-458d-fe35-c754658c2d9a"
      },
      "source": [
        "print(features_test.shape)\n",
        "print(target_test.shape)"
      ],
      "execution_count": 23,
      "outputs": [
        {
          "output_type": "stream",
          "name": "stdout",
          "text": [
            "(2500, 13)\n",
            "(2500,)\n"
          ]
        }
      ]
    },
    {
      "cell_type": "markdown",
      "metadata": {
        "id": "3THX2eDva3Hb"
      },
      "source": [
        "Now split the training dataset into training and validation data"
      ]
    },
    {
      "cell_type": "code",
      "metadata": {
        "id": "vZX0q7zxa2jV"
      },
      "source": [
        "df_train, df_valid = train_test_split(df_train, test_size=0.25, random_state=12345)\n",
        "\n",
        "features_train = df_train.drop(['Exited'], axis=1)\n",
        "target_train = df_train['Exited']\n",
        "features_valid = df_valid.drop(['Exited'], axis=1)\n",
        "target_valid = df_valid['Exited']"
      ],
      "execution_count": 19,
      "outputs": []
    },
    {
      "cell_type": "code",
      "metadata": {
        "colab": {
          "base_uri": "https://localhost:8080/"
        },
        "id": "PjLDQN0tqTpa",
        "outputId": "d63cdd98-9f08-455a-964d-37041d976799"
      },
      "source": [
        "print(features_train.shape)\n",
        "print(target_train.shape)"
      ],
      "execution_count": 24,
      "outputs": [
        {
          "output_type": "stream",
          "name": "stdout",
          "text": [
            "(5625, 13)\n",
            "(5625,)\n"
          ]
        }
      ]
    },
    {
      "cell_type": "code",
      "metadata": {
        "colab": {
          "base_uri": "https://localhost:8080/"
        },
        "id": "NlhDN_vcqmwR",
        "outputId": "5df3ea4b-b559-4467-b301-a2a73b4523c3"
      },
      "source": [
        "print(features_valid.shape)\n",
        "print(target_valid.shape)\n",
        "\n",
        "# dataset split into 25% test data and 75% training data that was then further \n",
        "#split into 75% training data and 25% validating data "
      ],
      "execution_count": 25,
      "outputs": [
        {
          "output_type": "stream",
          "name": "stdout",
          "text": [
            "(1875, 13)\n",
            "(1875,)\n"
          ]
        }
      ]
    },
    {
      "cell_type": "markdown",
      "metadata": {
        "id": "xnOUr5Hg6Vis"
      },
      "source": [
        "# Training the models without accounting for imbalance"
      ]
    },
    {
      "cell_type": "markdown",
      "metadata": {
        "id": "F0bV-uTP6dPi"
      },
      "source": [
        "1.Decision Tree Model"
      ]
    },
    {
      "cell_type": "code",
      "metadata": {
        "colab": {
          "base_uri": "https://localhost:8080/"
        },
        "id": "7Q-F2WHu6fru",
        "outputId": "ae6c85a5-7d51-4fea-9909-96043e13acb9"
      },
      "source": [
        "from sklearn.tree import DecisionTreeClassifier\n",
        "from sklearn.metrics import f1_score\n",
        "\n",
        "tree_model = DecisionTreeClassifier(random_state=12345, max_depth = 20)\n",
        "tree_model.fit(features_train, target_train)\n",
        "\n",
        "#convert features_valid to series to a 1d array for the prediction to work\n",
        "predicted_valid = pd.Series(tree_model.predict(features_valid))\n",
        "\n",
        "# compares predicted values vs actual values to determine accuracy of the model\n",
        "f1_tree = f1_score(predicted_valid,target_valid)\n",
        "\n",
        "print(f1_tree)\n",
        "\n",
        "#F1 score of 52% without adjustment"
      ],
      "execution_count": 27,
      "outputs": [
        {
          "output_type": "stream",
          "name": "stdout",
          "text": [
            "0.5242966751918159\n"
          ]
        }
      ]
    },
    {
      "cell_type": "markdown",
      "metadata": {
        "id": "cmP42nQZ7xL4"
      },
      "source": [
        "2.Linear Regression Model"
      ]
    },
    {
      "cell_type": "code",
      "metadata": {
        "colab": {
          "base_uri": "https://localhost:8080/"
        },
        "id": "MEDzbsoH7xL5",
        "outputId": "53e06d37-c8b3-455a-9df3-d33f58fe86e3"
      },
      "source": [
        "from sklearn.metrics import f1_score\n",
        "from sklearn.linear_model import LogisticRegression\n",
        "\n",
        "lr_model = LogisticRegression(random_state=12345,solver='liblinear')\n",
        "#train the model\n",
        "lr_model.fit(features_train,target_train)\n",
        "\n",
        "#See the model's accuracy, call the score() method:\n",
        "linear_predictions= lr_model.predict(features_valid)\n",
        "linear_answers= target_valid\n",
        "\n",
        "# compares predicted values vs actual values to determine accuracy of the model\n",
        "f1_linear = f1_score(linear_predictions,linear_answers)\n",
        "\n",
        "print(f1_linear)\n",
        "\n",
        "#F1 score of 0% without adjustment"
      ],
      "execution_count": 29,
      "outputs": [
        {
          "output_type": "stream",
          "name": "stdout",
          "text": [
            "0.0\n"
          ]
        }
      ]
    },
    {
      "cell_type": "markdown",
      "metadata": {
        "id": "A5ufJ0jp_4og"
      },
      "source": [
        "Observations:\n",
        "\n",
        "Trained models without accounting for the class imbalance lead to low to 0 F1 scores. \n",
        "Decision tree classifier model produces a 0.52 F1 score, while regression models produce 0.0 F1 scores. "
      ]
    },
    {
      "cell_type": "markdown",
      "metadata": {
        "id": "kzN2y-NNAQRZ"
      },
      "source": [
        "# 5. Fixing the Class imbalance"
      ]
    },
    {
      "cell_type": "markdown",
      "metadata": {
        "id": "N8cHsl2XAZ4Y"
      },
      "source": [
        "Method 1: Upsampling"
      ]
    },
    {
      "cell_type": "code",
      "metadata": {
        "colab": {
          "base_uri": "https://localhost:8080/"
        },
        "id": "hpcmAtbqAcax",
        "outputId": "e8b40ebc-6c50-4748-f8f6-73390a35b48e"
      },
      "source": [
        "from sklearn.utils import shuffle\n",
        "from sklearn.linear_model import LogisticRegression\n",
        "from sklearn.metrics import f1_score\n",
        "\n",
        "\n",
        "# create function to seperate the exited and non exited and combine using concat function.\n",
        "def upsample(features, target, repeat):\n",
        "    features_zeros = features[target == 0]\n",
        "    features_ones = features[target == 1]\n",
        "    target_zeros = target[target == 0]\n",
        "    target_ones = target[target == 1]\n",
        "\n",
        "    features_upsampled = pd.concat([features_zeros] + [features_ones] * repeat)\n",
        "    target_upsampled = pd.concat([target_zeros] + [target_ones] * repeat)\n",
        "#sguffle the data\n",
        "    features_upsampled, target_upsampled = shuffle(\n",
        "        features_upsampled, target_upsampled, random_state=12345\n",
        "    )\n",
        "\n",
        "    return features_upsampled, target_upsampled\n",
        "\n",
        "\n",
        "features_upsampled, target_upsampled = upsample(\n",
        "    features_train, target_train, 10\n",
        ")\n",
        "\n",
        "\n",
        "model1 = LogisticRegression(random_state=12345, solver='liblinear')\n",
        "model1.fit(features_upsampled, target_upsampled)\n",
        "predicted_valid = model1.predict(features_valid)\n",
        "\n",
        "print('F1:', f1_score(target_valid, predicted_valid))"
      ],
      "execution_count": 31,
      "outputs": [
        {
          "output_type": "stream",
          "name": "stdout",
          "text": [
            "F1: 0.3370288248337029\n"
          ]
        }
      ]
    },
    {
      "cell_type": "markdown",
      "metadata": {
        "id": "yNhPORopBidV"
      },
      "source": [
        "Upsamling with decision tree classifier"
      ]
    },
    {
      "cell_type": "code",
      "metadata": {
        "colab": {
          "base_uri": "https://localhost:8080/"
        },
        "id": "Yq2BJhyFBfv6",
        "outputId": "5f0844f8-a555-4021-d8d1-51acf15eef18"
      },
      "source": [
        "from sklearn.utils import shuffle\n",
        "from sklearn.tree import DecisionTreeClassifier\n",
        "from sklearn.metrics import f1_score\n",
        "\n",
        "\n",
        "# create function to seperate the exited and non exited and combine using concat function.\n",
        "def upsample(features, target, repeat):\n",
        "    features_zeros = features[target == 0]\n",
        "    features_ones = features[target == 1]\n",
        "    target_zeros = target[target == 0]\n",
        "    target_ones = target[target == 1]\n",
        "\n",
        "    features_upsampled = pd.concat([features_zeros] + [features_ones] * repeat)\n",
        "    target_upsampled = pd.concat([target_zeros] + [target_ones] * repeat)\n",
        "#sguffle the data\n",
        "    features_upsampled, target_upsampled = shuffle(\n",
        "        features_upsampled, target_upsampled, random_state=12345\n",
        "    )\n",
        "\n",
        "    return features_upsampled, target_upsampled\n",
        "\n",
        "\n",
        "features_upsampled, target_upsampled = upsample(\n",
        "    features_train, target_train, 10\n",
        ")\n",
        "\n",
        "\n",
        "model2 = DecisionTreeClassifier(random_state=12345, max_depth = 20)\n",
        "model2.fit(features_upsampled, target_upsampled)\n",
        "predicted_valid = model2.predict(features_valid)\n",
        "\n",
        "print('F1:', f1_score(target_valid, predicted_valid))"
      ],
      "execution_count": 32,
      "outputs": [
        {
          "output_type": "stream",
          "name": "stdout",
          "text": [
            "F1: 0.517766497461929\n"
          ]
        }
      ]
    },
    {
      "cell_type": "markdown",
      "metadata": {
        "id": "EynM03UoB3_t"
      },
      "source": [
        "Method 2: Downsampling"
      ]
    },
    {
      "cell_type": "code",
      "metadata": {
        "colab": {
          "base_uri": "https://localhost:8080/"
        },
        "id": "v8m73pNeB968",
        "outputId": "41877cce-91e9-412f-b30d-6b8b47281ec8"
      },
      "source": [
        "from sklearn.model_selection import RepeatedStratifiedKFold\n",
        "from sklearn.model_selection import GridSearchCV\n",
        "\n",
        "\n",
        "# create function to seperate the exited and non exited and combine using concat function.\n",
        "def downsample(features, target, fraction):\n",
        "    features_zeros = features[target == 0]\n",
        "    features_ones = features[target == 1]\n",
        "    target_zeros = target[target == 0]\n",
        "    target_ones = target[target == 1]\n",
        "\n",
        "    features_downsampled = pd.concat(\n",
        "        [features_zeros.sample(frac=fraction, random_state=12345)]\n",
        "        + [features_ones]\n",
        "    )\n",
        "    target_downsampled = pd.concat(\n",
        "        [target_zeros.sample(frac=fraction, random_state=12345)]\n",
        "        + [target_ones]\n",
        "    )\n",
        "\n",
        "    features_downsampled, target_downsampled = shuffle(\n",
        "        features_downsampled, target_downsampled, random_state=12345\n",
        "    )\n",
        "\n",
        "    return features_downsampled, target_downsampled\n",
        "\n",
        "\n",
        "features_downsampled, target_downsampled = downsample(\n",
        "    features_train, target_train, 0.1\n",
        ")\n",
        "\n",
        "# < write code here >\n",
        "#model3 = LogisticRegression(random_state=12345, solver='liblinear')\n",
        "#model3.fit(features_downsampled, target_downsampled)\n",
        "#predicted_valid = model3.predict(features_valid)\n",
        "\n",
        "#print('F1:', f1_score(target_valid, predicted_valid))\n",
        "\n",
        "model3 = LogisticRegression(random_state=12345)\n",
        "solvers = ['newton-cg', 'lbfgs', 'liblinear']\n",
        "\n",
        "# define grid search\n",
        "grid = dict(solver=solvers)\n",
        "\n",
        "cv = RepeatedStratifiedKFold(n_splits=10, n_repeats=3, random_state=1)\n",
        "grid_search = GridSearchCV(estimator=model1, param_grid=grid, n_jobs=-1, cv=cv, scoring='f1',error_score=0)\n",
        "grid_result = grid_search.fit(features_valid,target_valid)\n",
        "\n",
        "# summarize results\n",
        "print(\"Best F1: %f using %s\" % (grid_result.best_score_, grid_result.best_params_))"
      ],
      "execution_count": 43,
      "outputs": [
        {
          "output_type": "stream",
          "name": "stdout",
          "text": [
            "Best F1: 0.275763 using {'solver': 'newton-cg'}\n"
          ]
        }
      ]
    },
    {
      "cell_type": "code",
      "metadata": {
        "colab": {
          "base_uri": "https://localhost:8080/"
        },
        "id": "GkoMbp4oCSBv",
        "outputId": "f64b678f-35b6-4dde-dbe4-b1be188ed197"
      },
      "source": [
        "# create function to seperate the exited and non exited and combine using concat function.\n",
        "def downsample(features, target, fraction):\n",
        "    features_zeros = features[target == 0]\n",
        "    features_ones = features[target == 1]\n",
        "    target_zeros = target[target == 0]\n",
        "    target_ones = target[target == 1]\n",
        "\n",
        "    features_downsampled = pd.concat(\n",
        "        [features_zeros.sample(frac=fraction, random_state=12345)]\n",
        "        + [features_ones]\n",
        "    )\n",
        "    target_downsampled = pd.concat(\n",
        "        [target_zeros.sample(frac=fraction, random_state=12345)]\n",
        "        + [target_ones]\n",
        "    )\n",
        "\n",
        "    features_downsampled, target_downsampled = shuffle(\n",
        "        features_downsampled, target_downsampled, random_state=12345\n",
        "    )\n",
        "\n",
        "    return features_downsampled, target_downsampled\n",
        "\n",
        "\n",
        "features_downsampled, target_downsampled = downsample(\n",
        "    features_train, target_train, 0.1\n",
        ")\n",
        "\n",
        "# < write code here >\n",
        "for depth in range(1, 20):\n",
        "        model4 = DecisionTreeClassifier(random_state=12345,max_depth=depth)\n",
        "\n",
        "        model4.fit(features_downsampled, target_downsampled)# < train the model >\n",
        "\n",
        "        predictions_valid = model4.predict(features_valid)# < find the predictions using validation set >\n",
        "\n",
        "        print(\"max_depth =\", depth, \": \", end='')\n",
        "        print(f1_score(target_valid, predictions_valid))\n",
        "\n"
      ],
      "execution_count": 39,
      "outputs": [
        {
          "output_type": "stream",
          "name": "stdout",
          "text": [
            "max_depth = 1 : 0.3370288248337029\n",
            "max_depth = 2 : 0.506896551724138\n",
            "max_depth = 3 : 0.4242424242424242\n",
            "max_depth = 4 : 0.42332361516034983\n",
            "max_depth = 5 : 0.47813411078717205\n",
            "max_depth = 6 : 0.4508670520231214\n",
            "max_depth = 7 : 0.45614035087719296\n",
            "max_depth = 8 : 0.43282594308405026\n",
            "max_depth = 9 : 0.4449035812672177\n",
            "max_depth = 10 : 0.4144869215291751\n",
            "max_depth = 11 : 0.42866894197952216\n",
            "max_depth = 12 : 0.4304318026045236\n",
            "max_depth = 13 : 0.42907058001397624\n",
            "max_depth = 14 : 0.4220558202859088\n",
            "max_depth = 15 : 0.42489851150202984\n",
            "max_depth = 16 : 0.42489851150202984\n",
            "max_depth = 17 : 0.42489851150202984\n",
            "max_depth = 18 : 0.42489851150202984\n",
            "max_depth = 19 : 0.42489851150202984\n"
          ]
        }
      ]
    },
    {
      "cell_type": "markdown",
      "metadata": {
        "id": "leKaKr4TE_Vy"
      },
      "source": [
        "Observations#\n",
        "On tuning parameters and determining the ones that give the best F1 score of 0.517 after adjusting for class imbalances are the Decision Tree Classifier model using a max _depth of 2 and accounting fot the imbalnces using upsampling. "
      ]
    },
    {
      "cell_type": "markdown",
      "metadata": {
        "id": "ALHdCLisGgTd"
      },
      "source": [
        "# 6. Final Testing: Using Testing data and Upsampling to adjust for imbalances, model type Decision tree classifier"
      ]
    },
    {
      "cell_type": "code",
      "metadata": {
        "colab": {
          "base_uri": "https://localhost:8080/"
        },
        "id": "SVPey_q1GrfV",
        "outputId": "2f25c997-0d26-4c42-bb5c-385ea6f531bc"
      },
      "source": [
        "# create function to seperate the exited and non exited and combine using concat function.\n",
        "def upsample(features, target, repeat):\n",
        "    features_zeros = features[target == 0]\n",
        "    features_ones = features[target == 1]\n",
        "    target_zeros = target[target == 0]\n",
        "    target_ones = target[target == 1]\n",
        "\n",
        "    features_upsampled = pd.concat([features_zeros] + [features_ones] * repeat)\n",
        "    target_upsampled = pd.concat([target_zeros] + [target_ones] * repeat)\n",
        "#sguffle the data\n",
        "    features_upsampled, target_upsampled = shuffle(\n",
        "        features_upsampled, target_upsampled, random_state=12345\n",
        "    )\n",
        "\n",
        "    return features_upsampled, target_upsampled\n",
        "\n",
        "\n",
        "features_upsampled, target_upsampled = upsample(\n",
        "    features_train, target_train, 10\n",
        ")\n",
        "\n",
        "\n",
        "model2 = DecisionTreeClassifier(random_state=12345, max_depth = 27)\n",
        "model2.fit(features_upsampled, target_upsampled)\n",
        "predicted_test = model2.predict(features_test)\n",
        "\n",
        "print('F1:', f1_score(target_test, predicted_test))"
      ],
      "execution_count": 58,
      "outputs": [
        {
          "output_type": "stream",
          "name": "stdout",
          "text": [
            "F1: 0.4717348927875244\n"
          ]
        }
      ]
    },
    {
      "cell_type": "markdown",
      "metadata": {
        "id": "pb95LjoiHXZt"
      },
      "source": [
        "### Conclusion: With the decision treee classifier, and a max depth of 27, the highest F1 score we are able to achieve for the testing data is 0.47"
      ]
    }
  ]
}